{
 "cells": [
  {
   "cell_type": "code",
   "execution_count": 1,
   "metadata": {},
   "outputs": [],
   "source": [
    "import pandas as pd\n",
    "import numpy as np"
   ]
  },
  {
   "cell_type": "code",
   "execution_count": 3,
   "metadata": {},
   "outputs": [],
   "source": [
    "odi_data = pd.read_csv('WinterBreak/Dateset_ODI.csv')"
   ]
  },
  {
   "cell_type": "code",
   "execution_count": 5,
   "metadata": {},
   "outputs": [
    {
     "name": "stdout",
     "output_type": "stream",
     "text": [
      "<class 'pandas.core.frame.DataFrame'>\n",
      "RangeIndex: 3932 entries, 0 to 3931\n",
      "Data columns (total 7 columns):\n",
      " #   Column      Non-Null Count  Dtype \n",
      "---  ------      --------------  ----- \n",
      " 0   Scorecard   3932 non-null   object\n",
      " 1   Team 1      3932 non-null   object\n",
      " 2   Team 2      3932 non-null   object\n",
      " 3   Winner      3932 non-null   object\n",
      " 4   Margin      3753 non-null   object\n",
      " 5   Ground      3932 non-null   object\n",
      " 6   Match Date  3932 non-null   object\n",
      "dtypes: object(7)\n",
      "memory usage: 215.2+ KB\n"
     ]
    }
   ],
   "source": [
    "odi_data.info()"
   ]
  },
  {
   "cell_type": "code",
   "execution_count": 7,
   "metadata": {},
   "outputs": [
    {
     "data": {
      "text/plain": [
       "0          Australia\n",
       "1            England\n",
       "2            England\n",
       "3            England\n",
       "4        New Zealand\n",
       "            ...     \n",
       "3927           India\n",
       "3928    South Africa\n",
       "3929        Pakistan\n",
       "3930           India\n",
       "3931           India\n",
       "Name: Team 1, Length: 3932, dtype: object"
      ]
     },
     "execution_count": 7,
     "metadata": {},
     "output_type": "execute_result"
    }
   ],
   "source": [
    "odi_data['Team 1']"
   ]
  },
  {
   "cell_type": "code",
   "execution_count": 10,
   "metadata": {},
   "outputs": [
    {
     "data": {
      "text/plain": [
       "Sharjah      228\n",
       "Dhaka        156\n",
       "Sydney       154\n",
       "Melbourne    147\n",
       "Harare       136\n",
       "Name: Ground, dtype: int64"
      ]
     },
     "execution_count": 10,
     "metadata": {},
     "output_type": "execute_result"
    }
   ],
   "source": [
    "odi_data['Ground'].value_counts().head()"
   ]
  },
  {
   "cell_type": "code",
   "execution_count": 12,
   "metadata": {},
   "outputs": [
    {
     "data": {
      "text/plain": [
       "Australia      555\n",
       "India          476\n",
       "Pakistan       469\n",
       "West Indies    380\n",
       "Sri Lanka      372\n",
       "Name: Winner, dtype: int64"
      ]
     },
     "execution_count": 12,
     "metadata": {},
     "output_type": "execute_result"
    }
   ],
   "source": [
    "odi_data['Winner'].value_counts().head()"
   ]
  },
  {
   "cell_type": "code",
   "execution_count": 16,
   "metadata": {},
   "outputs": [
    {
     "data": {
      "text/plain": [
       "Pakistan        83\n",
       "India           35\n",
       "Sri Lanka       29\n",
       "West Indies     19\n",
       "Australia       14\n",
       "South Africa    10\n",
       "Afghanistan      9\n",
       "New Zealand      9\n",
       "Zimbabwe         8\n",
       "England          8\n",
       "tied             2\n",
       "Canada           1\n",
       "Netherlands      1\n",
       "Name: Winner, dtype: int64"
      ]
     },
     "execution_count": 16,
     "metadata": {},
     "output_type": "execute_result"
    }
   ],
   "source": [
    "odi_data[odi_data['Ground'] == 'Sharjah']['Winner'].value_counts()"
   ]
  },
  {
   "cell_type": "code",
   "execution_count": 23,
   "metadata": {},
   "outputs": [
    {
     "data": {
      "text/plain": [
       "India           930\n",
       "Australia       906\n",
       "Pakistan        884\n",
       "Sri Lanka       808\n",
       "West Indies     767\n",
       "New Zealand     731\n",
       "England         697\n",
       "South Africa    583\n",
       "Zimbabwe        491\n",
       "Bangladesh      335\n",
       "Kenya           154\n",
       "Ireland         123\n",
       "Scotland         93\n",
       "Afghanistan      83\n",
       "Canada           77\n",
       "Netherlands      76\n",
       "U.A.E.           35\n",
       "Bermuda          35\n",
       "Hong Kong        18\n",
       "P.N.G.           10\n",
       "Asia XI           7\n",
       "Namibia           6\n",
       "Africa XI         6\n",
       "ICC World XI      4\n",
       "East Africa       3\n",
       "U.S.A.            2\n",
       "dtype: int64"
      ]
     },
     "execution_count": 23,
     "metadata": {},
     "output_type": "execute_result"
    }
   ],
   "source": [
    "tot_match=odi_data['Team 1'].append(odi_data['Team 2'])\n",
    "tot_match.value_counts()"
   ]
  },
  {
   "cell_type": "code",
   "execution_count": 25,
   "metadata": {},
   "outputs": [
    {
     "data": {
      "text/plain": [
       "Australia       555\n",
       "India           476\n",
       "Pakistan        469\n",
       "West Indies     380\n",
       "Sri Lanka       372\n",
       "South Africa    361\n",
       "England         343\n",
       "New Zealand     324\n",
       "no result       140\n",
       "Zimbabwe        129\n",
       "Bangladesh      105\n",
       "Ireland          51\n",
       "Afghanistan      42\n",
       "Kenya            42\n",
       "tied             34\n",
       "Scotland         31\n",
       "Netherlands      28\n",
       "Canada           17\n",
       "U.A.E.            9\n",
       "Bermuda           7\n",
       "Hong Kong         6\n",
       "P.N.G.            5\n",
       "Asia XI           4\n",
       "ICC World XI      1\n",
       "Africa XI         1\n",
       "Name: Winner, dtype: int64"
      ]
     },
     "execution_count": 25,
     "metadata": {},
     "output_type": "execute_result"
    }
   ],
   "source": [
    "odi_data['Winner'].value_counts()"
   ]
  },
  {
   "cell_type": "code",
   "execution_count": 31,
   "metadata": {},
   "outputs": [
    {
     "data": {
      "text/plain": [
       "India           930\n",
       "Australia       906\n",
       "Pakistan        884\n",
       "Sri Lanka       808\n",
       "West Indies     767\n",
       "New Zealand     731\n",
       "England         697\n",
       "South Africa    583\n",
       "Zimbabwe        491\n",
       "Bangladesh      335\n",
       "Kenya           154\n",
       "Ireland         123\n",
       "Scotland         93\n",
       "Afghanistan      83\n",
       "Canada           77\n",
       "Netherlands      76\n",
       "U.A.E.           35\n",
       "Bermuda          35\n",
       "Hong Kong        18\n",
       "P.N.G.           10\n",
       "Asia XI           7\n",
       "Namibia           6\n",
       "Africa XI         6\n",
       "ICC World XI      4\n",
       "East Africa       3\n",
       "U.S.A.            2\n",
       "dtype: int64"
      ]
     },
     "execution_count": 31,
     "metadata": {},
     "output_type": "execute_result"
    }
   ],
   "source": [
    "tot_match_team=tot_match.value_counts()\n",
    "tot_match_team"
   ]
  },
  {
   "cell_type": "code",
   "execution_count": 33,
   "metadata": {},
   "outputs": [
    {
     "data": {
      "text/plain": [
       "Australia       555\n",
       "India           476\n",
       "Pakistan        469\n",
       "West Indies     380\n",
       "Sri Lanka       372\n",
       "South Africa    361\n",
       "England         343\n",
       "New Zealand     324\n",
       "no result       140\n",
       "Zimbabwe        129\n",
       "Bangladesh      105\n",
       "Ireland          51\n",
       "Afghanistan      42\n",
       "Kenya            42\n",
       "tied             34\n",
       "Scotland         31\n",
       "Netherlands      28\n",
       "Canada           17\n",
       "U.A.E.            9\n",
       "Bermuda           7\n",
       "Hong Kong         6\n",
       "P.N.G.            5\n",
       "Asia XI           4\n",
       "ICC World XI      1\n",
       "Africa XI         1\n",
       "Name: Winner, dtype: int64"
      ]
     },
     "execution_count": 33,
     "metadata": {},
     "output_type": "execute_result"
    }
   ],
   "source": [
    "tot_team_wins=odi_data['Winner'].value_counts()\n",
    "tot_team_wins"
   ]
  },
  {
   "cell_type": "code",
   "execution_count": 35,
   "metadata": {},
   "outputs": [
    {
     "data": {
      "text/plain": [
       "Feb 4, 2007     6\n",
       "Jul 10, 2010    4\n",
       "Jun 20, 1983    4\n",
       "Jun 18, 1983    4\n",
       "Jun 14, 1975    4\n",
       "Name: Match Date, dtype: int64"
      ]
     },
     "execution_count": 35,
     "metadata": {},
     "output_type": "execute_result"
    }
   ],
   "source": [
    "odi_data['Match Date'].value_counts().head()"
   ]
  },
  {
   "cell_type": "code",
   "execution_count": 42,
   "metadata": {},
   "outputs": [
    {
     "data": {
      "text/plain": [
       "England         23\n",
       "Australia       12\n",
       "West Indies      6\n",
       "Sri Lanka        4\n",
       "Pakistan         4\n",
       "India            4\n",
       "New Zealand      3\n",
       "tied             2\n",
       "no result        1\n",
       "South Africa     1\n",
       "Name: Winner, dtype: int64"
      ]
     },
     "execution_count": 42,
     "metadata": {},
     "output_type": "execute_result"
    }
   ],
   "source": [
    "odi_data[odi_data['Ground'] == \"Lord's\"]['Winner'].value_counts()"
   ]
  },
  {
   "cell_type": "code",
   "execution_count": 49,
   "metadata": {},
   "outputs": [
    {
     "data": {
      "text/plain": [
       "1637"
      ]
     },
     "execution_count": 49,
     "metadata": {},
     "output_type": "execute_result"
    }
   ],
   "source": [
    "len(odi_data[odi_data['Team 2'] == odi_data['Winner']])"
   ]
  },
  {
   "cell_type": "code",
   "execution_count": 51,
   "metadata": {},
   "outputs": [
    {
     "data": {
      "text/plain": [
       "Pakistan        245\n",
       "West Indies     239\n",
       "Sri Lanka       200\n",
       "Australia       172\n",
       "South Africa    167\n",
       "India           161\n",
       "England         122\n",
       "New Zealand     117\n",
       "Zimbabwe         71\n",
       "Bangladesh       27\n",
       "Afghanistan      22\n",
       "Ireland          21\n",
       "Scotland         16\n",
       "Kenya            16\n",
       "Netherlands      16\n",
       "Canada            8\n",
       "Bermuda           4\n",
       "P.N.G.            4\n",
       "Asia XI           4\n",
       "Hong Kong         2\n",
       "U.A.E.            2\n",
       "ICC World XI      1\n",
       "Name: Team 2, dtype: int64"
      ]
     },
     "execution_count": 51,
     "metadata": {},
     "output_type": "execute_result"
    }
   ],
   "source": [
    "odi_data[odi_data['Team 2'] == odi_data['Winner']]['Team 2'].value_counts()"
   ]
  },
  {
   "cell_type": "code",
   "execution_count": 52,
   "metadata": {},
   "outputs": [
    {
     "data": {
      "text/html": [
       "<div>\n",
       "<style scoped>\n",
       "    .dataframe tbody tr th:only-of-type {\n",
       "        vertical-align: middle;\n",
       "    }\n",
       "\n",
       "    .dataframe tbody tr th {\n",
       "        vertical-align: top;\n",
       "    }\n",
       "\n",
       "    .dataframe thead th {\n",
       "        text-align: right;\n",
       "    }\n",
       "</style>\n",
       "<table border=\"1\" class=\"dataframe\">\n",
       "  <thead>\n",
       "    <tr style=\"text-align: right;\">\n",
       "      <th></th>\n",
       "      <th>Scorecard</th>\n",
       "      <th>Team 1</th>\n",
       "      <th>Team 2</th>\n",
       "      <th>Winner</th>\n",
       "      <th>Margin</th>\n",
       "      <th>Ground</th>\n",
       "      <th>Match Date</th>\n",
       "    </tr>\n",
       "  </thead>\n",
       "  <tbody>\n",
       "    <tr>\n",
       "      <th>2500</th>\n",
       "      <td>ODI # 2501</td>\n",
       "      <td>Australia</td>\n",
       "      <td>New Zealand</td>\n",
       "      <td>Australia</td>\n",
       "      <td>5 wickets</td>\n",
       "      <td>Melbourne</td>\n",
       "      <td>Feb 4, 2007</td>\n",
       "    </tr>\n",
       "    <tr>\n",
       "      <th>2501</th>\n",
       "      <td>ODI # 2502</td>\n",
       "      <td>Bermuda</td>\n",
       "      <td>Netherlands</td>\n",
       "      <td>Netherlands</td>\n",
       "      <td>8 wickets</td>\n",
       "      <td>Nairobi (Ruaraka)</td>\n",
       "      <td>Feb 4, 2007</td>\n",
       "    </tr>\n",
       "    <tr>\n",
       "      <th>2502</th>\n",
       "      <td>ODI # 2503</td>\n",
       "      <td>Canada</td>\n",
       "      <td>Ireland</td>\n",
       "      <td>Canada</td>\n",
       "      <td>6 wickets</td>\n",
       "      <td>Nairobi (Jaff)</td>\n",
       "      <td>Feb 4, 2007</td>\n",
       "    </tr>\n",
       "    <tr>\n",
       "      <th>2503</th>\n",
       "      <td>ODI # 2504</td>\n",
       "      <td>Kenya</td>\n",
       "      <td>Scotland</td>\n",
       "      <td>Scotland</td>\n",
       "      <td>77 runs</td>\n",
       "      <td>Nairobi (Gym)</td>\n",
       "      <td>Feb 4, 2007</td>\n",
       "    </tr>\n",
       "    <tr>\n",
       "      <th>2504</th>\n",
       "      <td>ODI # 2505</td>\n",
       "      <td>Zimbabwe</td>\n",
       "      <td>Bangladesh</td>\n",
       "      <td>Bangladesh</td>\n",
       "      <td>45 runs</td>\n",
       "      <td>Harare</td>\n",
       "      <td>Feb 4, 2007</td>\n",
       "    </tr>\n",
       "    <tr>\n",
       "      <th>2505</th>\n",
       "      <td>ODI # 2506</td>\n",
       "      <td>South Africa</td>\n",
       "      <td>Pakistan</td>\n",
       "      <td>South Africa</td>\n",
       "      <td>164 runs</td>\n",
       "      <td>Centurion</td>\n",
       "      <td>Feb 4, 2007</td>\n",
       "    </tr>\n",
       "  </tbody>\n",
       "</table>\n",
       "</div>"
      ],
      "text/plain": [
       "       Scorecard        Team 1       Team 2        Winner     Margin  \\\n",
       "2500  ODI # 2501     Australia  New Zealand     Australia  5 wickets   \n",
       "2501  ODI # 2502       Bermuda  Netherlands   Netherlands  8 wickets   \n",
       "2502  ODI # 2503        Canada      Ireland        Canada  6 wickets   \n",
       "2503  ODI # 2504         Kenya     Scotland      Scotland    77 runs   \n",
       "2504  ODI # 2505      Zimbabwe   Bangladesh    Bangladesh    45 runs   \n",
       "2505  ODI # 2506  South Africa     Pakistan  South Africa   164 runs   \n",
       "\n",
       "                 Ground   Match Date  \n",
       "2500          Melbourne  Feb 4, 2007  \n",
       "2501  Nairobi (Ruaraka)  Feb 4, 2007  \n",
       "2502     Nairobi (Jaff)  Feb 4, 2007  \n",
       "2503      Nairobi (Gym)  Feb 4, 2007  \n",
       "2504             Harare  Feb 4, 2007  \n",
       "2505          Centurion  Feb 4, 2007  "
      ]
     },
     "execution_count": 52,
     "metadata": {},
     "output_type": "execute_result"
    }
   ],
   "source": [
    "odi_data[odi_data['Match Date']=='Feb 4, 2007']"
   ]
  }
 ],
 "metadata": {
  "kernelspec": {
   "display_name": "Python 3",
   "language": "python",
   "name": "python3"
  },
  "language_info": {
   "codemirror_mode": {
    "name": "ipython",
    "version": 3
   },
   "file_extension": ".py",
   "mimetype": "text/x-python",
   "name": "python",
   "nbconvert_exporter": "python",
   "pygments_lexer": "ipython3",
   "version": "3.8.3"
  }
 },
 "nbformat": 4,
 "nbformat_minor": 4
}
