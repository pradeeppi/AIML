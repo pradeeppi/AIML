{
 "cells": [
  {
   "cell_type": "markdown",
   "metadata": {},
   "source": [
    "### Regular Expression Practice Exercise"
   ]
  },
  {
   "cell_type": "markdown",
   "metadata": {},
   "source": [
    "This excersie will use `''.join()` function of python\n",
    "\n",
    "What join does is, it combines the elements of a list or tuple with a common separator\n",
    "\n",
    "To be able to use finditer, we need to pass a string. We use the join function to achieve that."
   ]
  },
  {
   "cell_type": "code",
   "execution_count": 9,
   "metadata": {},
   "outputs": [
    {
     "name": "stdout",
     "output_type": "stream",
     "text": [
      "Joining element of 'a' using ' | ' as separator\n",
      "This | Is | it | Also | Mine | Whatever\n",
      "\n",
      "Joining element of 'a' using ', ' as separator\n",
      "This, Is, it, Also, Mine, Whatever\n",
      "\n",
      "Joining element of 'a' without a separator\n",
      "ThisIsitAlsoMineWhatever\n",
      "\n",
      "Joining element of 'a' using '||' as separator\n",
      "This||Is||it||Also||Mine||Whatever\n",
      "\n"
     ]
    }
   ],
   "source": [
    "# Example of join Functions\n",
    "a = ['This','Is','it','Also','Mine','Whatever']\n",
    "\n",
    "print(\"Joining element of 'a' using ' | ' as separator\")\n",
    "print(\" | \".join(a))\n",
    "print()\n",
    "print(\"Joining element of 'a' using ', ' as separator\")\n",
    "print(\", \".join(a))\n",
    "print()\n",
    "print(\"Joining element of 'a' without a separator\")\n",
    "print(\"\".join(a))\n",
    "print()\n",
    "print(\"Joining element of 'a' using '||' as separator\")\n",
    "print(\"||\".join(a))\n",
    "print()\n"
   ]
  },
  {
   "cell_type": "markdown",
   "metadata": {},
   "source": [
    "`It can be used for a column of a dataframe as well`"
   ]
  },
  {
   "cell_type": "markdown",
   "metadata": {},
   "source": [
    "#### Import the random email data file"
   ]
  },
  {
   "cell_type": "code",
   "execution_count": 1,
   "metadata": {},
   "outputs": [],
   "source": [
    "import pandas as pd\n",
    "\n",
    "email_data = pd.read_csv('Random Email Dataset.csv')"
   ]
  },
  {
   "cell_type": "markdown",
   "metadata": {},
   "source": [
    "#### Display the Email ids"
   ]
  },
  {
   "cell_type": "code",
   "execution_count": 3,
   "metadata": {
    "scrolled": true
   },
   "outputs": [
    {
     "data": {
      "text/plain": [
       "0               mnmwuhasdwqweqw\n",
       "1           cynvhupf@gamail.com\n",
       "2           doznfpxy@gamail.com\n",
       "3             ufpgolgelastqxaoi\n",
       "4      rdvafvkummnuj@yahooo.com\n",
       "                 ...           \n",
       "165         ptvqlffe@gamail.com\n",
       "166         lzcrsiuo@gamail.com\n",
       "167         iydthkxz@gamail.com\n",
       "168           mpmwehcnjjntjvfnl\n",
       "169      mphibnuxgtr@yahooo.com\n",
       "Name: Email Address, Length: 170, dtype: object"
      ]
     },
     "execution_count": 3,
     "metadata": {},
     "output_type": "execute_result"
    }
   ],
   "source": [
    "email_data['Email Address']"
   ]
  },
  {
   "cell_type": "markdown",
   "metadata": {},
   "source": [
    "#### FInd the number of gamail email Ids (ending with @gamail.com)"
   ]
  },
  {
   "cell_type": "code",
   "execution_count": 4,
   "metadata": {},
   "outputs": [
    {
     "name": "stdout",
     "output_type": "stream",
     "text": [
      "mnmwuhasdwqweqw||cynvhupf@gamail.com||doznfpxy@gamail.com||ufpgolgelastqxaoi||rdvafvkummnuj@yahooo.com||rvkwwlntnchl@yahooo.com||hrgsyomuf@gamail.com||spiltjsn@yahooo.com||mtrhitjlqw@gamail.com||oerdomqxcb@gamail.com||ojsasdweeewq||jasdwweeeq||gilmivlrwnfbss@yahooo.com||anuaackiokhac@yahooo.com||roclrzpyjf@gamail.com||ahsjitbw@gamail.com||iupwkgasdweqeew||natzhmxfx@gamail.com||ungxqtzk@gamail.com||fbdvsxmz@gamail.com||dfhjmsfwzo@gamail.com||fctkqhbr@yahooo.com||rmykhpek@gamail.com||bkrfsjbxa@gamail.com||rvekpvpupelcp||cetxcilthi@gamail.com||fdwtktzb@gamail.com||cigudlhqgo@yahooo.com||gasdeqeqwe||yhgsbbuwi@gamail.com||axnnkyzfw@gamail.com||mfnuidsdkv@gamail.com||kmqukhckbhk@yahooo.com||bwfasdeqwqww||sidhmibmc@gamail.com||hajdffrjjt@gamail.com||xpkgzqlonx@gamail.com||vfbudpenpu@gamail.com||larmsherg@gamail.com||chfbukyfq@gamail.com||riaotsnqb@yahooo.com||ufhkwbpawf@gamail.com||immznovrvt@gamail.com||uuvjkmvyz@gamail.com||ikxzclcijp@gamail.com||coxkbauib@gamail.com||epuaniefyc@gamail.com||udqxrdnm@yahooo.com||nuguxfaxahhv||yjsrgtbkrc@gamail.com||ajoxctasdwweeqe||giiempwyyb@gamail.com||qdvwzbhkei@gamail.com||okkasdewqeew||okryynvaa@gamail.com||vcywoyuf@gamail.com||qluwgvwiahgr||tbraplsn@gamail.com||lrxxvidjc@gamail.com||jbgpfqchyr@gamail.com||hnublhpdl@gamail.com||crrflbgh@gamail.com||xxhpreasdqeqwww||cqdwbnfkpd@yahooo.com||brkvboow@gamail.com||kvucccrmersslpxove||szpxrjagut@gamail.com||awgzgumb@gamail.com||ckkvrefqd@yahooo.com||cseccgfneb@gamail.com||sruptmen@gamail.com||yvhhukjn@gamail.com||elnhgwcbyv@gamail.com||kjnjlcxwti@yahooo.com||sviqhylb@gamail.com||jqmadasdqwqwww||yadbsvwvg@gamail.com||aaorvyysxf@gamail.com||xjmgparcc@gamail.com||ywcqscai@gamail.com||oxoqdxpgn@yahooo.com||ehzuneriqo@gamail.com||pqwmeexn@gamail.com||xukonboq@gamail.com||dasdwqqwww||rbaphprlucgmjux||amtwzsir@gamail.com||aphoiajgtwxk@yahooo.com||umxsdasdqwqeqq||udfdqqwr@gamail.com||kgbxxhcg@gamail.com||rvymiywr@gamail.com||gucwwzsvna@gamail.com||fetsvhueis@yahooo.com||vyhryvdws@gamail.com||xduplvccf@gamail.com||zaulskbal@gamail.com||zzoincwqj@gamail.com||gjltjnzveh@gamail.com||ncxasdeqwwwe||erbddjgrbovpts@yahooo.com||ctkchmorojwug||dmwzaxraky@gamail.com||lcprqplxuvmh||pkgiyzzek@gamail.com||bettkasdqwwqew||xioqnlwvexjfhwi||axxcclugn@gamail.com||axjwgwrebraowmxkq||pngkfuyi@gamail.com||jwgpyftju@gamail.com||endklheyf@gamail.com||xaygsobmj@gamail.com||hvadllcan@gamail.com||hasdwqeqwe||kjwhthatehggl||sjchuisi@gamail.com||quomwvasdqwewwe||mavxmlrofooa@yahooo.com||essrtfudqedpca||knyxtuhiky@gamail.com||txjtmqrpcucjq@yahooo.com||cvayqkmvp@gamail.com||wsekosltxcflae@yahooo.com||wlkshtyo@gamail.com||ciaswdupft@gamail.com||txbmspprkbwintgh||omgvtomjuujltvimfxqq||easgapxwumww@yahooo.com||sxflxpnlbpmkpxik||ksjaxtoouvadaehfooir||dtphkuwur@gamail.com||rhmasdqeeqwq||rfcgbxvpa@gamail.com||dwqehbqgmhsrqv@yahooo.com||bvvgtffhqenutfqkt||jxdwlnmo@gamail.com||zkpccwuyxg@gamail.com||scrissrlgofe@yahooo.com||dcvqqlgeds@gamail.com||ztvuqejs@gamail.com||vycrqymksj@gamail.com||umivtwugly@gamail.com||dfzlhbnqgn@gamail.com||jzftqqmsgg@gamail.com||pdinqfvjkmtoutpe||wlugzyqlho@gamail.com||ubacaqudlmkkeiivjhrh||gqjiromffb@gamail.com||tingcagmlqe@yahooo.com||dkhofbftkpelo@yahooo.com||lzsfpjtao@gamail.com||zebnwcxgyr@gamail.com||bexgeucdsh@yahooo.com||gxsasdeqqeqw||muxckttvbpl@yahooo.com||ewjrfvifdmcj@yahooo.com||pkasdeweqew||bjbkdhrbpru@yahooo.com||yjxvtmpu@gamail.com||qplgeulsca@gamail.com||gqlksquxy@gamail.com||mryphjpzmy@gamail.com||zibibnujl@gamail.com||iowkasdweqwqw||ptvqlffe@gamail.com||lzcrsiuo@gamail.com||iydthkxz@gamail.com||mpmwehcnjjntjvfnl||mphibnuxgtr@yahooo.com\n"
     ]
    }
   ],
   "source": [
    "import re\n",
    "x=email_data['Email Address']\n",
    "print('||'.join(x))"
   ]
  },
  {
   "cell_type": "code",
   "execution_count": 13,
   "metadata": {},
   "outputs": [
    {
     "name": "stdout",
     "output_type": "stream",
     "text": [
      "Total number of gamail.com email-ids: 100\n"
     ]
    }
   ],
   "source": [
    "pat1=re.compile(r'[a-zA-Z0-9_]@gamail\\.com\\b')\n",
    "matches=pat1.finditer(' '.join(x))\n",
    "cnt=0\n",
    "for mat in matches:\n",
    "    cnt=cnt+1\n",
    "print('Total number of gamail.com email-ids:',cnt)    "
   ]
  },
  {
   "cell_type": "markdown",
   "metadata": {},
   "source": [
    "#### Find the number of yahooo email Ids (ending with @yahooo.com)"
   ]
  },
  {
   "cell_type": "code",
   "execution_count": 14,
   "metadata": {},
   "outputs": [
    {
     "name": "stdout",
     "output_type": "stream",
     "text": [
      "Total number of yahooo.com email-ids: 30\n"
     ]
    }
   ],
   "source": [
    "pat2=re.compile(r'[a-zA-Z0-9_]@yahooo\\.com\\b')\n",
    "matches=pat2.finditer(' '.join(x))\n",
    "cnt=0\n",
    "for mat in matches:\n",
    "    cnt=cnt+1\n",
    "print('Total number of yahooo.com email-ids:',cnt)    "
   ]
  },
  {
   "cell_type": "markdown",
   "metadata": {},
   "source": [
    "#### Find the number of entries that are not email ids (consider the entries that do not have a @ and a .com/.in/.org in them)"
   ]
  },
  {
   "cell_type": "code",
   "execution_count": 18,
   "metadata": {},
   "outputs": [
    {
     "name": "stdout",
     "output_type": "stream",
     "text": [
      "Total email-ids: 130\n",
      "\n",
      "170\n",
      "Total non-email-is: 40\n"
     ]
    }
   ],
   "source": [
    "pat3=re.compile(r'[a-zA-Z0-9_]+@[a-zA-Z0-9_]+(\\.com|\\.in|\\.org)\\b')\n",
    "matches=pat3.finditer(' '.join(x))\n",
    "cnt3=0\n",
    "for mat in matches:\n",
    "    cnt3=cnt3+1\n",
    "print('Total email-ids:',cnt3)\n",
    "print()\n",
    "tot_cnt=len(email_data['Email Address'])\n",
    "print(tot_cnt)\n",
    "print('Total non-email-is:',tot_cnt-cnt3)"
   ]
  },
  {
   "cell_type": "markdown",
   "metadata": {},
   "source": [
    "#### find the total entries that have the pattern 'asd' in them"
   ]
  },
  {
   "cell_type": "code",
   "execution_count": null,
   "metadata": {},
   "outputs": [],
   "source": []
  },
  {
   "cell_type": "markdown",
   "metadata": {},
   "source": [
    "#### find the number of email Ids that start with k"
   ]
  },
  {
   "cell_type": "code",
   "execution_count": null,
   "metadata": {},
   "outputs": [],
   "source": []
  }
 ],
 "metadata": {
  "kernelspec": {
   "display_name": "Python 3",
   "language": "python",
   "name": "python3"
  },
  "language_info": {
   "codemirror_mode": {
    "name": "ipython",
    "version": 3
   },
   "file_extension": ".py",
   "mimetype": "text/x-python",
   "name": "python",
   "nbconvert_exporter": "python",
   "pygments_lexer": "ipython3",
   "version": "3.8.3"
  }
 },
 "nbformat": 4,
 "nbformat_minor": 2
}
