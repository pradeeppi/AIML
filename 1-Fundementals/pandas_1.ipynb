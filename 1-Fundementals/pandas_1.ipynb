{
 "cells": [
  {
   "cell_type": "code",
   "execution_count": 1,
   "metadata": {},
   "outputs": [],
   "source": [
    "import pandas as pd\n",
    "import numpy as np"
   ]
  },
  {
   "cell_type": "code",
   "execution_count": 2,
   "metadata": {},
   "outputs": [],
   "source": [
    "mylist = [5.4,6.1,1.7,99.8]\n",
    "myarray = np.array(mylist)"
   ]
  },
  {
   "cell_type": "code",
   "execution_count": 3,
   "metadata": {},
   "outputs": [
    {
     "name": "stdout",
     "output_type": "stream",
     "text": [
      "0     5.4\n",
      "1     6.1\n",
      "2     1.7\n",
      "3    99.8\n",
      "dtype: float64\n",
      "0     5.4\n",
      "1     6.1\n",
      "2     1.7\n",
      "3    99.8\n",
      "dtype: float64\n"
     ]
    }
   ],
   "source": [
    "myseries1 = pd.Series(data=mylist)\n",
    "print(myseries1)\n",
    "myseries2 = pd.Series(data=myarray)\n",
    "print (myseries2)"
   ]
  },
  {
   "cell_type": "code",
   "execution_count": 4,
   "metadata": {},
   "outputs": [
    {
     "name": "stdout",
     "output_type": "stream",
     "text": [
      "1.7\n"
     ]
    }
   ],
   "source": [
    "print (myseries1[2])"
   ]
  },
  {
   "cell_type": "code",
   "execution_count": 5,
   "metadata": {},
   "outputs": [
    {
     "name": "stdout",
     "output_type": "stream",
     "text": [
      "first      5.4\n",
      "second     6.1\n",
      "third      1.7\n",
      "fourth    99.8\n",
      "dtype: float64\n"
     ]
    }
   ],
   "source": [
    "mylabels=['first','second','third','fourth']\n",
    "myser3 = pd.Series(data=mylist,index=mylabels)\n",
    "print (myser3)"
   ]
  },
  {
   "cell_type": "code",
   "execution_count": 6,
   "metadata": {},
   "outputs": [
    {
     "name": "stdout",
     "output_type": "stream",
     "text": [
      "first      5.4\n",
      "second     6.1\n",
      "third      1.7\n",
      "fourth    99.8\n",
      "dtype: float64\n"
     ]
    }
   ],
   "source": [
    "myser4=pd.Series(mylist,mylabels)\n",
    "print (myser4)"
   ]
  },
  {
   "cell_type": "code",
   "execution_count": 7,
   "metadata": {},
   "outputs": [
    {
     "name": "stdout",
     "output_type": "stream",
     "text": [
      "6.1\n"
     ]
    }
   ],
   "source": [
    "print(myser4['second'])"
   ]
  },
  {
   "cell_type": "code",
   "execution_count": 8,
   "metadata": {},
   "outputs": [
    {
     "name": "stdout",
     "output_type": "stream",
     "text": [
      "first     5.1\n",
      "third     1.1\n",
      "fourth    8.8\n",
      "fifth     1.6\n",
      "dtype: float64\n",
      "\n",
      "fifth       NaN\n",
      "first      10.5\n",
      "fourth    108.6\n",
      "second      NaN\n",
      "third       2.8\n",
      "dtype: float64\n"
     ]
    }
   ],
   "source": [
    "myser5=pd.Series([5.1,1.1,8.8,1.6],['first','third','fourth','fifth'])\n",
    "print(myser5)\n",
    "print('')\n",
    "print(myser5+myser4)"
   ]
  },
  {
   "cell_type": "code",
   "execution_count": 9,
   "metadata": {},
   "outputs": [
    {
     "data": {
      "text/html": [
       "<div>\n",
       "<style scoped>\n",
       "    .dataframe tbody tr th:only-of-type {\n",
       "        vertical-align: middle;\n",
       "    }\n",
       "\n",
       "    .dataframe tbody tr th {\n",
       "        vertical-align: top;\n",
       "    }\n",
       "\n",
       "    .dataframe thead th {\n",
       "        text-align: right;\n",
       "    }\n",
       "</style>\n",
       "<table border=\"1\" class=\"dataframe\">\n",
       "  <thead>\n",
       "    <tr style=\"text-align: right;\">\n",
       "      <th></th>\n",
       "      <th>0</th>\n",
       "      <th>1</th>\n",
       "    </tr>\n",
       "  </thead>\n",
       "  <tbody>\n",
       "    <tr>\n",
       "      <th>first</th>\n",
       "      <td>5.4</td>\n",
       "      <td>5.1</td>\n",
       "    </tr>\n",
       "    <tr>\n",
       "      <th>second</th>\n",
       "      <td>6.1</td>\n",
       "      <td>NaN</td>\n",
       "    </tr>\n",
       "    <tr>\n",
       "      <th>third</th>\n",
       "      <td>1.7</td>\n",
       "      <td>1.1</td>\n",
       "    </tr>\n",
       "    <tr>\n",
       "      <th>fourth</th>\n",
       "      <td>99.8</td>\n",
       "      <td>8.8</td>\n",
       "    </tr>\n",
       "    <tr>\n",
       "      <th>fifth</th>\n",
       "      <td>NaN</td>\n",
       "      <td>1.6</td>\n",
       "    </tr>\n",
       "  </tbody>\n",
       "</table>\n",
       "</div>"
      ],
      "text/plain": [
       "           0    1\n",
       "first    5.4  5.1\n",
       "second   6.1  NaN\n",
       "third    1.7  1.1\n",
       "fourth  99.8  8.8\n",
       "fifth    NaN  1.6"
      ]
     },
     "execution_count": 9,
     "metadata": {},
     "output_type": "execute_result"
    }
   ],
   "source": [
    "df1 = pd.concat([myser4,myser5],axis=1,sort=False)\n",
    "df1"
   ]
  },
  {
   "cell_type": "code",
   "execution_count": 10,
   "metadata": {},
   "outputs": [
    {
     "data": {
      "text/html": [
       "<div>\n",
       "<style scoped>\n",
       "    .dataframe tbody tr th:only-of-type {\n",
       "        vertical-align: middle;\n",
       "    }\n",
       "\n",
       "    .dataframe tbody tr th {\n",
       "        vertical-align: top;\n",
       "    }\n",
       "\n",
       "    .dataframe thead th {\n",
       "        text-align: right;\n",
       "    }\n",
       "</style>\n",
       "<table border=\"1\" class=\"dataframe\">\n",
       "  <thead>\n",
       "    <tr style=\"text-align: right;\">\n",
       "      <th></th>\n",
       "      <th>0</th>\n",
       "      <th>1</th>\n",
       "      <th>2</th>\n",
       "      <th>3</th>\n",
       "      <th>4</th>\n",
       "    </tr>\n",
       "  </thead>\n",
       "  <tbody>\n",
       "    <tr>\n",
       "      <th>0</th>\n",
       "      <td>-1.672275</td>\n",
       "      <td>-0.395785</td>\n",
       "      <td>-0.706051</td>\n",
       "      <td>0.701318</td>\n",
       "      <td>1.346434</td>\n",
       "    </tr>\n",
       "    <tr>\n",
       "      <th>1</th>\n",
       "      <td>-0.430318</td>\n",
       "      <td>-1.452885</td>\n",
       "      <td>0.931198</td>\n",
       "      <td>-1.242358</td>\n",
       "      <td>-0.102917</td>\n",
       "    </tr>\n",
       "    <tr>\n",
       "      <th>2</th>\n",
       "      <td>-1.922400</td>\n",
       "      <td>1.096853</td>\n",
       "      <td>1.230148</td>\n",
       "      <td>1.500012</td>\n",
       "      <td>-0.859773</td>\n",
       "    </tr>\n",
       "    <tr>\n",
       "      <th>3</th>\n",
       "      <td>1.078015</td>\n",
       "      <td>-1.082227</td>\n",
       "      <td>0.437465</td>\n",
       "      <td>-0.057018</td>\n",
       "      <td>0.818548</td>\n",
       "    </tr>\n",
       "    <tr>\n",
       "      <th>4</th>\n",
       "      <td>-0.787540</td>\n",
       "      <td>0.555942</td>\n",
       "      <td>-0.284846</td>\n",
       "      <td>2.290923</td>\n",
       "      <td>-0.024729</td>\n",
       "    </tr>\n",
       "  </tbody>\n",
       "</table>\n",
       "</div>"
      ],
      "text/plain": [
       "          0         1         2         3         4\n",
       "0 -1.672275 -0.395785 -0.706051  0.701318  1.346434\n",
       "1 -0.430318 -1.452885  0.931198 -1.242358 -0.102917\n",
       "2 -1.922400  1.096853  1.230148  1.500012 -0.859773\n",
       "3  1.078015 -1.082227  0.437465 -0.057018  0.818548\n",
       "4 -0.787540  0.555942 -0.284846  2.290923 -0.024729"
      ]
     },
     "execution_count": 10,
     "metadata": {},
     "output_type": "execute_result"
    }
   ],
   "source": [
    "df2=pd.DataFrame(np.random.randn(5,5))\n",
    "df2"
   ]
  },
  {
   "cell_type": "code",
   "execution_count": 11,
   "metadata": {},
   "outputs": [
    {
     "data": {
      "text/plain": [
       "5"
      ]
     },
     "execution_count": 11,
     "metadata": {},
     "output_type": "execute_result"
    }
   ],
   "source": [
    "flowers = pd.Series([2, 3, 5, 4], index=['lily', 'rose', 'daisy', 'lotus'])\n",
    "\n",
    "flowers['daisy']"
   ]
  },
  {
   "cell_type": "code",
   "execution_count": 12,
   "metadata": {},
   "outputs": [
    {
     "name": "stdout",
     "output_type": "stream",
     "text": [
      "[[13 35 74 48]\n",
      " [23 37 37 38]\n",
      " [73 39 93 39]]\n"
     ]
    },
    {
     "data": {
      "text/plain": [
       "array([[35, 74],\n",
       "       [37, 37],\n",
       "       [39, 93]])"
      ]
     },
     "execution_count": 12,
     "metadata": {},
     "output_type": "execute_result"
    }
   ],
   "source": [
    "demo_matrix = np.array(([13,35,74,48], [23,37,37,38], [73,39,93,39]))\n",
    "print(demo_matrix)\n",
    "demo_matrix[:, (1,2)]"
   ]
  },
  {
   "cell_type": "code",
   "execution_count": 13,
   "metadata": {},
   "outputs": [
    {
     "data": {
      "text/plain": [
       "[12]"
      ]
     },
     "execution_count": 13,
     "metadata": {},
     "output_type": "execute_result"
    }
   ],
   "source": [
    "test_array = [10, 11.5, 12, 13.5, 14,15]   \n",
    "test_array[2:3]"
   ]
  },
  {
   "cell_type": "code",
   "execution_count": 15,
   "metadata": {},
   "outputs": [
    {
     "data": {
      "text/html": [
       "<div>\n",
       "<style scoped>\n",
       "    .dataframe tbody tr th:only-of-type {\n",
       "        vertical-align: middle;\n",
       "    }\n",
       "\n",
       "    .dataframe tbody tr th {\n",
       "        vertical-align: top;\n",
       "    }\n",
       "\n",
       "    .dataframe thead th {\n",
       "        text-align: right;\n",
       "    }\n",
       "</style>\n",
       "<table border=\"1\" class=\"dataframe\">\n",
       "  <thead>\n",
       "    <tr style=\"text-align: right;\">\n",
       "      <th></th>\n",
       "      <th>prodname</th>\n",
       "      <th>profit</th>\n",
       "    </tr>\n",
       "    <tr>\n",
       "      <th>prodID</th>\n",
       "      <th></th>\n",
       "      <th></th>\n",
       "    </tr>\n",
       "  </thead>\n",
       "  <tbody>\n",
       "    <tr>\n",
       "      <th>101</th>\n",
       "      <td>X</td>\n",
       "      <td>2738</td>\n",
       "    </tr>\n",
       "    <tr>\n",
       "      <th>102</th>\n",
       "      <td>Y</td>\n",
       "      <td>2727</td>\n",
       "    </tr>\n",
       "    <tr>\n",
       "      <th>103</th>\n",
       "      <td>Z</td>\n",
       "      <td>3497</td>\n",
       "    </tr>\n",
       "    <tr>\n",
       "      <th>104</th>\n",
       "      <td>X</td>\n",
       "      <td>7347</td>\n",
       "    </tr>\n",
       "  </tbody>\n",
       "</table>\n",
       "</div>"
      ],
      "text/plain": [
       "       prodname profit\n",
       "prodID                \n",
       "101           X   2738\n",
       "102           Y   2727\n",
       "103           Z   3497\n",
       "104           X   7347"
      ]
     },
     "execution_count": 15,
     "metadata": {},
     "output_type": "execute_result"
    }
   ],
   "source": [
    "data = {'prodID': ['101', '102', '103', '104', '104'],\n",
    "\n",
    "                    'prodname': ['X', 'Y', 'Z', 'X', 'W'],\n",
    "\n",
    "                     'profit': ['2738', '2727', '3497', '7347', '3743']}\n",
    "\n",
    "dataframe = pd.DataFrame(data)\n",
    "\n",
    "dataframe\n",
    "\n",
    "grouped_data = dataframe.groupby('prodID')\n",
    "\n",
    "grouped_data.max()"
   ]
  },
  {
   "cell_type": "code",
   "execution_count": 16,
   "metadata": {},
   "outputs": [
    {
     "data": {
      "text/plain": [
       "array([0, 1, 2, 3, 4, 5, 6, 7, 8, 9])"
      ]
     },
     "execution_count": 16,
     "metadata": {},
     "output_type": "execute_result"
    }
   ],
   "source": [
    "demo_array=np.arange(0,10)\n",
    "demo_array"
   ]
  },
  {
   "cell_type": "code",
   "execution_count": 17,
   "metadata": {},
   "outputs": [
    {
     "data": {
      "text/plain": [
       "9"
      ]
     },
     "execution_count": 17,
     "metadata": {},
     "output_type": "execute_result"
    }
   ],
   "source": [
    "np.max(demo_array)"
   ]
  },
  {
   "cell_type": "code",
   "execution_count": 23,
   "metadata": {},
   "outputs": [
    {
     "data": {
      "text/plain": [
       "array([1, 2, 3, 4])"
      ]
     },
     "execution_count": 23,
     "metadata": {},
     "output_type": "execute_result"
    }
   ],
   "source": [
    "football=[1,2,3,4]\n",
    "ary=np.array(football)\n",
    "ary"
   ]
  },
  {
   "cell_type": "code",
   "execution_count": 24,
   "metadata": {},
   "outputs": [
    {
     "data": {
      "text/plain": [
       "39"
      ]
     },
     "execution_count": 24,
     "metadata": {},
     "output_type": "execute_result"
    }
   ],
   "source": [
    "demo_matrix = np.array(([13,35,74,48], [23,37,37,38],[73,39,93,39]))\n",
    "demo_matrix[2,3]"
   ]
  },
  {
   "cell_type": "code",
   "execution_count": 27,
   "metadata": {},
   "outputs": [
    {
     "name": "stdout",
     "output_type": "stream",
     "text": [
      "  index set1\n",
      "0     0    A\n",
      "1     1    B\n"
     ]
    }
   ],
   "source": [
    "df_data = {'index': ['0', '1'],\n",
    "'set1': ['A', 'B']}\n",
    "df=pd.DataFrame(df_data)\n",
    "print(df)"
   ]
  },
  {
   "cell_type": "code",
   "execution_count": 29,
   "metadata": {},
   "outputs": [
    {
     "data": {
      "text/html": [
       "<div>\n",
       "<style scoped>\n",
       "    .dataframe tbody tr th:only-of-type {\n",
       "        vertical-align: middle;\n",
       "    }\n",
       "\n",
       "    .dataframe tbody tr th {\n",
       "        vertical-align: top;\n",
       "    }\n",
       "\n",
       "    .dataframe thead th {\n",
       "        text-align: right;\n",
       "    }\n",
       "</style>\n",
       "<table border=\"1\" class=\"dataframe\">\n",
       "  <thead>\n",
       "    <tr style=\"text-align: right;\">\n",
       "      <th></th>\n",
       "      <th>index</th>\n",
       "      <th>set1</th>\n",
       "      <th>set2</th>\n",
       "    </tr>\n",
       "  </thead>\n",
       "  <tbody>\n",
       "    <tr>\n",
       "      <th>0</th>\n",
       "      <td>0</td>\n",
       "      <td>A</td>\n",
       "      <td>P</td>\n",
       "    </tr>\n",
       "    <tr>\n",
       "      <th>1</th>\n",
       "      <td>1</td>\n",
       "      <td>B</td>\n",
       "      <td>Q</td>\n",
       "    </tr>\n",
       "  </tbody>\n",
       "</table>\n",
       "</div>"
      ],
      "text/plain": [
       "  index set1 set2\n",
       "0     0    A    P\n",
       "1     1    B    Q"
      ]
     },
     "execution_count": 29,
     "metadata": {},
     "output_type": "execute_result"
    }
   ],
   "source": [
    "new=[\"P\",\"Q\"]\n",
    "df['set2']=new\n",
    "df"
   ]
  },
  {
   "cell_type": "code",
   "execution_count": 30,
   "metadata": {},
   "outputs": [],
   "source": [
    "s1 = pd.Series(['a', 'b'])\n",
    "\n",
    "s2 = pd.Series(['c', 'd'])"
   ]
  },
  {
   "cell_type": "code",
   "execution_count": 31,
   "metadata": {},
   "outputs": [
    {
     "data": {
      "text/plain": [
       "0    a\n",
       "1    b\n",
       "0    c\n",
       "1    d\n",
       "dtype: object"
      ]
     },
     "execution_count": 31,
     "metadata": {},
     "output_type": "execute_result"
    }
   ],
   "source": [
    "pd.concat([s1, s2])"
   ]
  },
  {
   "cell_type": "code",
   "execution_count": 33,
   "metadata": {},
   "outputs": [
    {
     "name": "stdout",
     "output_type": "stream",
     "text": [
      "Requirement already satisfied: pandas-profiling==2.9.0 in /Users/pradeep/opt/anaconda3/lib/python3.8/site-packages (2.9.0)\n",
      "Requirement already satisfied: requests>=2.23.0 in /Users/pradeep/opt/anaconda3/lib/python3.8/site-packages (from pandas-profiling==2.9.0) (2.24.0)\n",
      "Requirement already satisfied: tangled-up-in-unicode>=0.0.6 in /Users/pradeep/opt/anaconda3/lib/python3.8/site-packages (from pandas-profiling==2.9.0) (0.0.6)\n",
      "Requirement already satisfied: pandas!=1.0.0,!=1.0.1,!=1.0.2,!=1.1.0,>=0.25.3 in /Users/pradeep/opt/anaconda3/lib/python3.8/site-packages (from pandas-profiling==2.9.0) (1.0.5)\n",
      "Requirement already satisfied: phik>=0.9.10 in /Users/pradeep/opt/anaconda3/lib/python3.8/site-packages (from pandas-profiling==2.9.0) (0.10.0)\n",
      "Requirement already satisfied: confuse>=1.0.0 in /Users/pradeep/opt/anaconda3/lib/python3.8/site-packages (from pandas-profiling==2.9.0) (1.4.0)\n",
      "Requirement already satisfied: matplotlib>=3.2.0 in /Users/pradeep/opt/anaconda3/lib/python3.8/site-packages (from pandas-profiling==2.9.0) (3.2.2)\n",
      "Requirement already satisfied: jinja2>=2.11.1 in /Users/pradeep/opt/anaconda3/lib/python3.8/site-packages (from pandas-profiling==2.9.0) (2.11.2)\n",
      "Requirement already satisfied: missingno>=0.4.2 in /Users/pradeep/opt/anaconda3/lib/python3.8/site-packages (from pandas-profiling==2.9.0) (0.4.2)\n",
      "Requirement already satisfied: tqdm>=4.43.0 in /Users/pradeep/opt/anaconda3/lib/python3.8/site-packages (from pandas-profiling==2.9.0) (4.47.0)\n",
      "Requirement already satisfied: htmlmin>=0.1.12 in /Users/pradeep/opt/anaconda3/lib/python3.8/site-packages (from pandas-profiling==2.9.0) (0.1.12)\n",
      "Requirement already satisfied: ipywidgets>=7.5.1 in /Users/pradeep/opt/anaconda3/lib/python3.8/site-packages (from pandas-profiling==2.9.0) (7.5.1)\n",
      "Requirement already satisfied: seaborn>=0.10.1 in /Users/pradeep/opt/anaconda3/lib/python3.8/site-packages (from pandas-profiling==2.9.0) (0.10.1)\n",
      "Requirement already satisfied: visions[type_image_path]==0.5.0 in /Users/pradeep/opt/anaconda3/lib/python3.8/site-packages (from pandas-profiling==2.9.0) (0.5.0)\n",
      "Requirement already satisfied: attrs>=19.3.0 in /Users/pradeep/opt/anaconda3/lib/python3.8/site-packages (from pandas-profiling==2.9.0) (19.3.0)\n",
      "Requirement already satisfied: numpy>=1.16.0 in /Users/pradeep/opt/anaconda3/lib/python3.8/site-packages (from pandas-profiling==2.9.0) (1.18.5)\n",
      "Requirement already satisfied: joblib in /Users/pradeep/opt/anaconda3/lib/python3.8/site-packages (from pandas-profiling==2.9.0) (0.16.0)\n",
      "Requirement already satisfied: scipy>=1.4.1 in /Users/pradeep/opt/anaconda3/lib/python3.8/site-packages (from pandas-profiling==2.9.0) (1.5.0)\n",
      "Requirement already satisfied: urllib3!=1.25.0,!=1.25.1,<1.26,>=1.21.1 in /Users/pradeep/opt/anaconda3/lib/python3.8/site-packages (from requests>=2.23.0->pandas-profiling==2.9.0) (1.25.9)\n",
      "Requirement already satisfied: chardet<4,>=3.0.2 in /Users/pradeep/opt/anaconda3/lib/python3.8/site-packages (from requests>=2.23.0->pandas-profiling==2.9.0) (3.0.4)\n",
      "Requirement already satisfied: certifi>=2017.4.17 in /Users/pradeep/opt/anaconda3/lib/python3.8/site-packages (from requests>=2.23.0->pandas-profiling==2.9.0) (2020.6.20)\n",
      "Requirement already satisfied: idna<3,>=2.5 in /Users/pradeep/opt/anaconda3/lib/python3.8/site-packages (from requests>=2.23.0->pandas-profiling==2.9.0) (2.10)\n",
      "Requirement already satisfied: python-dateutil>=2.6.1 in /Users/pradeep/opt/anaconda3/lib/python3.8/site-packages (from pandas!=1.0.0,!=1.0.1,!=1.0.2,!=1.1.0,>=0.25.3->pandas-profiling==2.9.0) (2.8.1)\n",
      "Requirement already satisfied: pytz>=2017.2 in /Users/pradeep/opt/anaconda3/lib/python3.8/site-packages (from pandas!=1.0.0,!=1.0.1,!=1.0.2,!=1.1.0,>=0.25.3->pandas-profiling==2.9.0) (2020.1)\n",
      "Requirement already satisfied: numba>=0.38.1 in /Users/pradeep/opt/anaconda3/lib/python3.8/site-packages (from phik>=0.9.10->pandas-profiling==2.9.0) (0.50.1)\n",
      "Requirement already satisfied: pyyaml in /Users/pradeep/opt/anaconda3/lib/python3.8/site-packages (from confuse>=1.0.0->pandas-profiling==2.9.0) (5.3.1)\n",
      "Requirement already satisfied: pyparsing!=2.0.4,!=2.1.2,!=2.1.6,>=2.0.1 in /Users/pradeep/opt/anaconda3/lib/python3.8/site-packages (from matplotlib>=3.2.0->pandas-profiling==2.9.0) (2.4.7)\n",
      "Requirement already satisfied: kiwisolver>=1.0.1 in /Users/pradeep/opt/anaconda3/lib/python3.8/site-packages (from matplotlib>=3.2.0->pandas-profiling==2.9.0) (1.2.0)\n",
      "Requirement already satisfied: cycler>=0.10 in /Users/pradeep/opt/anaconda3/lib/python3.8/site-packages (from matplotlib>=3.2.0->pandas-profiling==2.9.0) (0.10.0)\n",
      "Requirement already satisfied: MarkupSafe>=0.23 in /Users/pradeep/opt/anaconda3/lib/python3.8/site-packages (from jinja2>=2.11.1->pandas-profiling==2.9.0) (1.1.1)\n",
      "Requirement already satisfied: ipython>=4.0.0; python_version >= \"3.3\" in /Users/pradeep/opt/anaconda3/lib/python3.8/site-packages (from ipywidgets>=7.5.1->pandas-profiling==2.9.0) (7.16.1)\n",
      "Requirement already satisfied: traitlets>=4.3.1 in /Users/pradeep/opt/anaconda3/lib/python3.8/site-packages (from ipywidgets>=7.5.1->pandas-profiling==2.9.0) (4.3.3)\n",
      "Requirement already satisfied: ipykernel>=4.5.1 in /Users/pradeep/opt/anaconda3/lib/python3.8/site-packages (from ipywidgets>=7.5.1->pandas-profiling==2.9.0) (5.3.2)\n",
      "Requirement already satisfied: nbformat>=4.2.0 in /Users/pradeep/opt/anaconda3/lib/python3.8/site-packages (from ipywidgets>=7.5.1->pandas-profiling==2.9.0) (5.0.7)\n",
      "Requirement already satisfied: widgetsnbextension~=3.5.0 in /Users/pradeep/opt/anaconda3/lib/python3.8/site-packages (from ipywidgets>=7.5.1->pandas-profiling==2.9.0) (3.5.1)\n",
      "Requirement already satisfied: networkx>=2.4 in /Users/pradeep/opt/anaconda3/lib/python3.8/site-packages (from visions[type_image_path]==0.5.0->pandas-profiling==2.9.0) (2.4)\n",
      "Requirement already satisfied: Pillow; extra == \"type_image_path\" in /Users/pradeep/opt/anaconda3/lib/python3.8/site-packages (from visions[type_image_path]==0.5.0->pandas-profiling==2.9.0) (7.2.0)\n",
      "Requirement already satisfied: imagehash; extra == \"type_image_path\" in /Users/pradeep/opt/anaconda3/lib/python3.8/site-packages (from visions[type_image_path]==0.5.0->pandas-profiling==2.9.0) (4.2.0)\n",
      "Requirement already satisfied: six>=1.5 in /Users/pradeep/opt/anaconda3/lib/python3.8/site-packages (from python-dateutil>=2.6.1->pandas!=1.0.0,!=1.0.1,!=1.0.2,!=1.1.0,>=0.25.3->pandas-profiling==2.9.0) (1.15.0)\n",
      "Requirement already satisfied: llvmlite<0.34,>=0.33.0.dev0 in /Users/pradeep/opt/anaconda3/lib/python3.8/site-packages (from numba>=0.38.1->phik>=0.9.10->pandas-profiling==2.9.0) (0.33.0+1.g022ab0f)\n",
      "Requirement already satisfied: setuptools in /Users/pradeep/opt/anaconda3/lib/python3.8/site-packages (from numba>=0.38.1->phik>=0.9.10->pandas-profiling==2.9.0) (49.2.0.post20200714)\n",
      "Requirement already satisfied: backcall in /Users/pradeep/opt/anaconda3/lib/python3.8/site-packages (from ipython>=4.0.0; python_version >= \"3.3\"->ipywidgets>=7.5.1->pandas-profiling==2.9.0) (0.2.0)\n",
      "Requirement already satisfied: pygments in /Users/pradeep/opt/anaconda3/lib/python3.8/site-packages (from ipython>=4.0.0; python_version >= \"3.3\"->ipywidgets>=7.5.1->pandas-profiling==2.9.0) (2.6.1)\n",
      "Requirement already satisfied: prompt-toolkit!=3.0.0,!=3.0.1,<3.1.0,>=2.0.0 in /Users/pradeep/opt/anaconda3/lib/python3.8/site-packages (from ipython>=4.0.0; python_version >= \"3.3\"->ipywidgets>=7.5.1->pandas-profiling==2.9.0) (3.0.5)\n",
      "Requirement already satisfied: pickleshare in /Users/pradeep/opt/anaconda3/lib/python3.8/site-packages (from ipython>=4.0.0; python_version >= \"3.3\"->ipywidgets>=7.5.1->pandas-profiling==2.9.0) (0.7.5)\n",
      "Requirement already satisfied: jedi>=0.10 in /Users/pradeep/opt/anaconda3/lib/python3.8/site-packages (from ipython>=4.0.0; python_version >= \"3.3\"->ipywidgets>=7.5.1->pandas-profiling==2.9.0) (0.17.1)\n",
      "Requirement already satisfied: decorator in /Users/pradeep/opt/anaconda3/lib/python3.8/site-packages (from ipython>=4.0.0; python_version >= \"3.3\"->ipywidgets>=7.5.1->pandas-profiling==2.9.0) (4.4.2)\n",
      "Requirement already satisfied: appnope; sys_platform == \"darwin\" in /Users/pradeep/opt/anaconda3/lib/python3.8/site-packages (from ipython>=4.0.0; python_version >= \"3.3\"->ipywidgets>=7.5.1->pandas-profiling==2.9.0) (0.1.0)\n",
      "Requirement already satisfied: pexpect; sys_platform != \"win32\" in /Users/pradeep/opt/anaconda3/lib/python3.8/site-packages (from ipython>=4.0.0; python_version >= \"3.3\"->ipywidgets>=7.5.1->pandas-profiling==2.9.0) (4.8.0)\n",
      "Requirement already satisfied: ipython-genutils in /Users/pradeep/opt/anaconda3/lib/python3.8/site-packages (from traitlets>=4.3.1->ipywidgets>=7.5.1->pandas-profiling==2.9.0) (0.2.0)\n"
     ]
    },
    {
     "name": "stdout",
     "output_type": "stream",
     "text": [
      "Requirement already satisfied: tornado>=4.2 in /Users/pradeep/opt/anaconda3/lib/python3.8/site-packages (from ipykernel>=4.5.1->ipywidgets>=7.5.1->pandas-profiling==2.9.0) (6.0.4)\n",
      "Requirement already satisfied: jupyter-client in /Users/pradeep/opt/anaconda3/lib/python3.8/site-packages (from ipykernel>=4.5.1->ipywidgets>=7.5.1->pandas-profiling==2.9.0) (6.1.6)\n",
      "Requirement already satisfied: jsonschema!=2.5.0,>=2.4 in /Users/pradeep/opt/anaconda3/lib/python3.8/site-packages (from nbformat>=4.2.0->ipywidgets>=7.5.1->pandas-profiling==2.9.0) (3.2.0)\n",
      "Requirement already satisfied: jupyter-core in /Users/pradeep/opt/anaconda3/lib/python3.8/site-packages (from nbformat>=4.2.0->ipywidgets>=7.5.1->pandas-profiling==2.9.0) (4.6.3)\n",
      "Requirement already satisfied: notebook>=4.4.1 in /Users/pradeep/opt/anaconda3/lib/python3.8/site-packages (from widgetsnbextension~=3.5.0->ipywidgets>=7.5.1->pandas-profiling==2.9.0) (6.0.3)\n",
      "Requirement already satisfied: PyWavelets in /Users/pradeep/opt/anaconda3/lib/python3.8/site-packages (from imagehash; extra == \"type_image_path\"->visions[type_image_path]==0.5.0->pandas-profiling==2.9.0) (1.1.1)\n",
      "Requirement already satisfied: wcwidth in /Users/pradeep/opt/anaconda3/lib/python3.8/site-packages (from prompt-toolkit!=3.0.0,!=3.0.1,<3.1.0,>=2.0.0->ipython>=4.0.0; python_version >= \"3.3\"->ipywidgets>=7.5.1->pandas-profiling==2.9.0) (0.2.5)\n",
      "Requirement already satisfied: parso<0.8.0,>=0.7.0 in /Users/pradeep/opt/anaconda3/lib/python3.8/site-packages (from jedi>=0.10->ipython>=4.0.0; python_version >= \"3.3\"->ipywidgets>=7.5.1->pandas-profiling==2.9.0) (0.7.0)\n",
      "Requirement already satisfied: ptyprocess>=0.5 in /Users/pradeep/opt/anaconda3/lib/python3.8/site-packages (from pexpect; sys_platform != \"win32\"->ipython>=4.0.0; python_version >= \"3.3\"->ipywidgets>=7.5.1->pandas-profiling==2.9.0) (0.6.0)\n",
      "Requirement already satisfied: pyzmq>=13 in /Users/pradeep/opt/anaconda3/lib/python3.8/site-packages (from jupyter-client->ipykernel>=4.5.1->ipywidgets>=7.5.1->pandas-profiling==2.9.0) (19.0.1)\n",
      "Requirement already satisfied: pyrsistent>=0.14.0 in /Users/pradeep/opt/anaconda3/lib/python3.8/site-packages (from jsonschema!=2.5.0,>=2.4->nbformat>=4.2.0->ipywidgets>=7.5.1->pandas-profiling==2.9.0) (0.16.0)\n",
      "Requirement already satisfied: Send2Trash in /Users/pradeep/opt/anaconda3/lib/python3.8/site-packages (from notebook>=4.4.1->widgetsnbextension~=3.5.0->ipywidgets>=7.5.1->pandas-profiling==2.9.0) (1.5.0)\n",
      "Requirement already satisfied: prometheus-client in /Users/pradeep/opt/anaconda3/lib/python3.8/site-packages (from notebook>=4.4.1->widgetsnbextension~=3.5.0->ipywidgets>=7.5.1->pandas-profiling==2.9.0) (0.8.0)\n",
      "Requirement already satisfied: nbconvert in /Users/pradeep/opt/anaconda3/lib/python3.8/site-packages (from notebook>=4.4.1->widgetsnbextension~=3.5.0->ipywidgets>=7.5.1->pandas-profiling==2.9.0) (5.6.1)\n",
      "Requirement already satisfied: terminado>=0.8.1 in /Users/pradeep/opt/anaconda3/lib/python3.8/site-packages (from notebook>=4.4.1->widgetsnbextension~=3.5.0->ipywidgets>=7.5.1->pandas-profiling==2.9.0) (0.8.3)\n",
      "Requirement already satisfied: pandocfilters>=1.4.1 in /Users/pradeep/opt/anaconda3/lib/python3.8/site-packages (from nbconvert->notebook>=4.4.1->widgetsnbextension~=3.5.0->ipywidgets>=7.5.1->pandas-profiling==2.9.0) (1.4.2)\n",
      "Requirement already satisfied: testpath in /Users/pradeep/opt/anaconda3/lib/python3.8/site-packages (from nbconvert->notebook>=4.4.1->widgetsnbextension~=3.5.0->ipywidgets>=7.5.1->pandas-profiling==2.9.0) (0.4.4)\n",
      "Requirement already satisfied: mistune<2,>=0.8.1 in /Users/pradeep/opt/anaconda3/lib/python3.8/site-packages (from nbconvert->notebook>=4.4.1->widgetsnbextension~=3.5.0->ipywidgets>=7.5.1->pandas-profiling==2.9.0) (0.8.4)\n",
      "Requirement already satisfied: defusedxml in /Users/pradeep/opt/anaconda3/lib/python3.8/site-packages (from nbconvert->notebook>=4.4.1->widgetsnbextension~=3.5.0->ipywidgets>=7.5.1->pandas-profiling==2.9.0) (0.6.0)\n",
      "Requirement already satisfied: bleach in /Users/pradeep/opt/anaconda3/lib/python3.8/site-packages (from nbconvert->notebook>=4.4.1->widgetsnbextension~=3.5.0->ipywidgets>=7.5.1->pandas-profiling==2.9.0) (3.1.5)\n",
      "Requirement already satisfied: entrypoints>=0.2.2 in /Users/pradeep/opt/anaconda3/lib/python3.8/site-packages (from nbconvert->notebook>=4.4.1->widgetsnbextension~=3.5.0->ipywidgets>=7.5.1->pandas-profiling==2.9.0) (0.3)\n",
      "Requirement already satisfied: webencodings in /Users/pradeep/opt/anaconda3/lib/python3.8/site-packages (from bleach->nbconvert->notebook>=4.4.1->widgetsnbextension~=3.5.0->ipywidgets>=7.5.1->pandas-profiling==2.9.0) (0.5.1)\n",
      "Requirement already satisfied: packaging in /Users/pradeep/opt/anaconda3/lib/python3.8/site-packages (from bleach->nbconvert->notebook>=4.4.1->widgetsnbextension~=3.5.0->ipywidgets>=7.5.1->pandas-profiling==2.9.0) (20.4)\n"
     ]
    }
   ],
   "source": [
    "!pip install pandas-profiling==2.9.0"
   ]
  },
  {
   "cell_type": "code",
   "execution_count": null,
   "metadata": {},
   "outputs": [],
   "source": []
  }
 ],
 "metadata": {
  "kernelspec": {
   "display_name": "Python 3 (ipykernel)",
   "language": "python",
   "name": "python3"
  },
  "language_info": {
   "codemirror_mode": {
    "name": "ipython",
    "version": 3
   },
   "file_extension": ".py",
   "mimetype": "text/x-python",
   "name": "python",
   "nbconvert_exporter": "python",
   "pygments_lexer": "ipython3",
   "version": "3.9.7"
  }
 },
 "nbformat": 4,
 "nbformat_minor": 4
}
