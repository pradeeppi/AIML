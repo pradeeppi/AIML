{
 "cells": [
  {
   "cell_type": "code",
   "execution_count": 3,
   "metadata": {},
   "outputs": [],
   "source": [
    "import numpy as np"
   ]
  },
  {
   "cell_type": "code",
   "execution_count": 4,
   "metadata": {},
   "outputs": [
    {
     "name": "stdout",
     "output_type": "stream",
     "text": [
      "-1.0\n",
      "1.1\n",
      "5.2\n"
     ]
    }
   ],
   "source": [
    "print (np.cos(np.pi))\n",
    "print (np.sqrt(1.21))\n",
    "print (np.log(np.exp(5.2)))"
   ]
  },
  {
   "cell_type": "code",
   "execution_count": 5,
   "metadata": {},
   "outputs": [
    {
     "name": "stdout",
     "output_type": "stream",
     "text": [
      "[1 2 3]\n",
      "\n",
      "[[1 4 6]\n",
      " [4 6 9]\n",
      " [5 2 9]]\n",
      "\n",
      "[[1 4 5]\n",
      " [4 6 2]\n",
      " [6 9 9]]\n"
     ]
    }
   ],
   "source": [
    "vec = np.array([1,2,3])\n",
    "print (vec)\n",
    "mat = np.array([[1,4,6],[4,6,9],[5,2,9]])\n",
    "print('')\n",
    "print(mat)\n",
    "print('')\n",
    "print(mat.T)"
   ]
  },
  {
   "cell_type": "code",
   "execution_count": 6,
   "metadata": {},
   "outputs": [
    {
     "name": "stdout",
     "output_type": "stream",
     "text": [
      "[0 1 2 3 4 5 6 7 8]\n",
      "[ 3  6  9 12 15 18 21]\n"
     ]
    }
   ],
   "source": [
    "vec2=np.arange(0,9)\n",
    "print(vec2)\n",
    "vec3=np.arange(3,24,3)\n",
    "print(vec3)"
   ]
  },
  {
   "cell_type": "code",
   "execution_count": 7,
   "metadata": {},
   "outputs": [
    {
     "name": "stdout",
     "output_type": "stream",
     "text": [
      "[0.         0.38461538 0.76923077 1.15384615 1.53846154 1.92307692\n",
      " 2.30769231 2.69230769 3.07692308 3.46153846 3.84615385 4.23076923\n",
      " 4.61538462 5.        ]\n",
      "\n",
      "[[0.         0.38461538]\n",
      " [0.76923077 1.15384615]\n",
      " [1.53846154 1.92307692]\n",
      " [2.30769231 2.69230769]\n",
      " [3.07692308 3.46153846]\n",
      " [3.84615385 4.23076923]\n",
      " [4.61538462 5.        ]]\n",
      "[0.         0.38461538 0.76923077 1.15384615 1.53846154 1.92307692\n",
      " 2.30769231 2.69230769 3.07692308 3.46153846 3.84615385 4.23076923\n",
      " 4.61538462 5.        ]\n"
     ]
    }
   ],
   "source": [
    "vec4 = np.linspace(0,5,14)\n",
    "print (vec4)\n",
    "print ('')\n",
    "print (vec4.reshape(7,2))\n",
    "print (vec4)"
   ]
  },
  {
   "cell_type": "code",
   "execution_count": 8,
   "metadata": {},
   "outputs": [
    {
     "name": "stdout",
     "output_type": "stream",
     "text": [
      "[[0. 0. 0.]\n",
      " [0. 0. 0.]\n",
      " [0. 0. 0.]\n",
      " [0. 0. 0.]\n",
      " [0. 0. 0.]]\n",
      "\n",
      "[[1. 1. 1. 1.]\n",
      " [1. 1. 1. 1.]\n",
      " [1. 1. 1. 1.]]\n",
      "\n",
      "[[1. 0. 0. 0. 0.]\n",
      " [0. 1. 0. 0. 0.]\n",
      " [0. 0. 1. 0. 0.]\n",
      " [0. 0. 0. 1. 0.]\n",
      " [0. 0. 0. 0. 1.]]\n"
     ]
    }
   ],
   "source": [
    "mat2 = np.zeros([5,3])\n",
    "print (mat2)\n",
    "mat3 = np.ones((3,4))\n",
    "print('')\n",
    "print(mat3)\n",
    "mat4=np.eye(5)\n",
    "print('')\n",
    "print(mat4)"
   ]
  },
  {
   "cell_type": "code",
   "execution_count": 9,
   "metadata": {},
   "outputs": [
    {
     "name": "stdout",
     "output_type": "stream",
     "text": [
      "[1 2 3 4 5]\n",
      "\n",
      "[3 4 5 6 7]\n",
      "\n",
      "[ 4  6  8 10 12]\n",
      "\n",
      "[ 3  8 15 24 35]\n",
      "\n",
      "[2 2 2 2 2]\n",
      "\n",
      "[1.         0.5        0.33333333 0.25       0.2       ]\n",
      "\n",
      "[1.73205081 2.         2.23606798 2.44948974 2.64575131]\n"
     ]
    }
   ],
   "source": [
    "vec5 = np.arange(1,6)\n",
    "vec6 = np.arange(3,8)\n",
    "print(vec5)\n",
    "print('')\n",
    "print(vec6)\n",
    "print('')\n",
    "print(vec5+vec6)\n",
    "print('')\n",
    "print(vec5*vec6)\n",
    "print('')\n",
    "print(vec6-vec5)\n",
    "print('')\n",
    "print(1/vec5)\n",
    "print('')\n",
    "print(np.sqrt(vec6))"
   ]
  },
  {
   "cell_type": "code",
   "execution_count": 10,
   "metadata": {},
   "outputs": [
    {
     "name": "stdout",
     "output_type": "stream",
     "text": [
      "[[1 4 6]\n",
      " [4 6 9]\n",
      " [5 2 9]]\n",
      "[1 2 3]\n",
      "[27 43 36]\n"
     ]
    }
   ],
   "source": [
    "print(mat)\n",
    "print(vec)\n",
    "matm=np.matmul(mat,vec)\n",
    "print(matm)"
   ]
  },
  {
   "cell_type": "code",
   "execution_count": 11,
   "metadata": {},
   "outputs": [
    {
     "name": "stdout",
     "output_type": "stream",
     "text": [
      "[1. 2. 3.]\n",
      "[[-6.00000000e-01  4.00000000e-01  4.44089210e-17]\n",
      " [-1.50000000e-01  3.50000000e-01 -2.50000000e-01]\n",
      " [ 3.66666667e-01 -3.00000000e-01  1.66666667e-01]]\n"
     ]
    }
   ],
   "source": [
    "sol=np.linalg.solve(mat,matm)\n",
    "print(sol)\n",
    "inv=np.linalg.inv(mat)\n",
    "print(inv)"
   ]
  },
  {
   "cell_type": "code",
   "execution_count": 12,
   "metadata": {},
   "outputs": [
    {
     "name": "stdout",
     "output_type": "stream",
     "text": [
      "['a' 'b' 'd' 'd' 'B' '4' '7']\n",
      "['4' '7' 'B' 'a' 'b' 'd']\n"
     ]
    }
   ],
   "source": [
    "vec7=np.array(['a','b','d','d','B',4,7])\n",
    "print(vec7)\n",
    "print(np.unique(vec7))"
   ]
  },
  {
   "cell_type": "code",
   "execution_count": 13,
   "metadata": {},
   "outputs": [
    {
     "name": "stdout",
     "output_type": "stream",
     "text": [
      "[[0.72522627 0.80435718 0.10152988 0.57036098 0.10790387]\n",
      " [0.98096743 0.70499901 0.69129787 0.25782302 0.49932769]\n",
      " [0.57173111 0.48036873 0.41931878 0.95930505 0.31042164]\n",
      " [0.48377197 0.49572261 0.73700943 0.32231703 0.45674701]\n",
      " [0.55921296 0.1219428  0.18391368 0.09014955 0.20508563]]\n",
      "\n",
      "[[ 1.02991107  0.78443692 -0.4775698  -0.29420962 -0.57288412]\n",
      " [ 0.14439192 -1.5555518  -0.24510512 -0.8057535   0.54531223]\n",
      " [-0.12951552 -1.9452352   0.25046411 -0.31056225  0.78948366]\n",
      " [-0.72584434 -0.02308601 -0.40235852  0.71824433  0.07399059]\n",
      " [-0.92577589  0.24900832  1.13918067  0.18374777 -1.56095882]]\n"
     ]
    }
   ],
   "source": [
    "rand_1=np.random.rand(5,5)\n",
    "print(rand_1)\n",
    "rand_2=np.random.randn(5,5)\n",
    "print('')\n",
    "print(rand_2)"
   ]
  },
  {
   "cell_type": "code",
   "execution_count": 14,
   "metadata": {},
   "outputs": [
    {
     "name": "stdout",
     "output_type": "stream",
     "text": [
      "0.4736324473436529\n",
      "0.7895757040214918\n"
     ]
    }
   ],
   "source": [
    "print(np.mean(rand_1))\n",
    "print(np.std(rand_2))"
   ]
  },
  {
   "cell_type": "code",
   "execution_count": 15,
   "metadata": {},
   "outputs": [
    {
     "name": "stdout",
     "output_type": "stream",
     "text": [
      "0.09014954663741837\n",
      "1.139180667201454\n"
     ]
    }
   ],
   "source": [
    "print(np.min(rand_1))\n",
    "print(np.max(rand_2))"
   ]
  },
  {
   "cell_type": "code",
   "execution_count": 18,
   "metadata": {},
   "outputs": [
    {
     "name": "stdout",
     "output_type": "stream",
     "text": [
      "[[0.72522627 0.80435718 0.10152988 0.57036098 0.10790387]\n",
      " [0.98096743 0.70499901 0.69129787 0.25782302 0.49932769]\n",
      " [0.57173111 0.48036873 0.41931878 0.95930505 0.31042164]\n",
      " [0.48377197 0.49572261 0.73700943 0.32231703 0.45674701]\n",
      " [0.55921296 0.1219428  0.18391368 0.09014955 0.20508563]]\n"
     ]
    }
   ],
   "source": [
    "print(rand_1)"
   ]
  },
  {
   "cell_type": "code",
   "execution_count": 17,
   "metadata": {},
   "outputs": [],
   "source": [
    "np.save('saved_file',rand_2)"
   ]
  }
 ],
 "metadata": {
  "kernelspec": {
   "display_name": "Python 3",
   "language": "python",
   "name": "python3"
  },
  "language_info": {
   "codemirror_mode": {
    "name": "ipython",
    "version": 3
   },
   "file_extension": ".py",
   "mimetype": "text/x-python",
   "name": "python",
   "nbconvert_exporter": "python",
   "pygments_lexer": "ipython3",
   "version": "3.8.3"
  }
 },
 "nbformat": 4,
 "nbformat_minor": 4
}
